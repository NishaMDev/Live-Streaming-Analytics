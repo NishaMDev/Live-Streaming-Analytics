{
 "cells": [
  {
   "cell_type": "code",
   "execution_count": 2,
   "id": "8a2b6767",
   "metadata": {},
   "outputs": [],
   "source": [
    "import sqlite3\n",
    "import pandas as pd"
   ]
  },
  {
   "cell_type": "code",
   "execution_count": null,
   "id": "e70588c6",
   "metadata": {},
   "outputs": [],
   "source": []
  },
  {
   "cell_type": "code",
   "execution_count": 7,
   "id": "ff7661b2",
   "metadata": {},
   "outputs": [],
   "source": [
    "path = '/Users/akanksha/IdeaProjects/AkankshaMasterProject/data/processed'\n",
    "channels = ['tarik','lirik','gmhikaru','summit1g']\n",
    "conn = sqlite3.connect('../data/db.sqlite3',isolation_level=None)\n",
    "for channel in channels:\n",
    "    \n",
    "    sentiment_score_query = \"\"\"select stream_date, avg(general_sentiment) as value\n",
    "                           from chats\n",
    "                            where channel_name ='{}'\n",
    "                           group by date\n",
    "                           order by date asc\"\"\".format(channel)\n",
    "\n",
    "    follower_query = \"\"\"select stream_date, avg(follower_count) as value\n",
    "                           from chats\n",
    "                            where channel_name ='{}'\n",
    "                           group by date\n",
    "                           order by date asc\"\"\".format(channel)\n",
    "\n",
    "\n",
    "    viewer_query = \"\"\"select stream_date, avg(viewer_count) as value\n",
    "                           from chats\n",
    "                            where channel_name ='{}'\n",
    "                           group by date\n",
    "                           order by date asc\"\"\".format(channel)\n",
    "    \n",
    "    sentiment_df = pd.read_sql_query(sentiment_score_query, conn)\n",
    "    follower_df = pd.read_sql_query(follower_query, conn)\n",
    "    viewer_df = pd.read_sql_query(viewer_query, conn)\n",
    "    \n",
    "    sentiment_df.to_csv(path + '/sentiment_values_{}.csv'.format(channel))\n",
    "    follower_df.to_csv(path + '/follower_values_{}.csv'.format(channel))\n",
    "    viewer_df.to_csv(path + '/viewer_values_{}.csv'.format(channel))\n",
    "                      \n",
    "conn.close()"
   ]
  },
  {
   "cell_type": "code",
   "execution_count": 8,
   "id": "c88c4a59",
   "metadata": {},
   "outputs": [
    {
     "data": {
      "text/plain": "[('cdawgva', 'Games + Demos', 1063, 5),\n ('cdawgva', 'Just Chatting', 577, 3),\n ('gmhikaru', 'Chess', 536, 12),\n ('lirik', 'Counter-Strike: Global Offensive', 7043, 18),\n ('stewie2k', 'VALORANT', 36, 6),\n ('summit1g', 'Counter-Strike: Global Offensive', 1954, 11),\n ('summit1g', 'DayZ', 110, 3),\n ('tarik', 'VALORANT', 9216, 11),\n ('zackrawrr', 'Just Chatting', 1343, 6),\n ('zackrawrr', 'New World', 457, 12)]"
     },
     "execution_count": 8,
     "metadata": {},
     "output_type": "execute_result"
    }
   ],
   "source": [
    "#test = conn.execute('''drop table if exists chats_table_demo''')\n",
    "#test = conn.execute('''create table chats_table_test as select * from chats_table_sentiment limit 100''')\n",
    "conn = sqlite3.connect('../data/db.sqlite3',isolation_level=None)\n",
    "test = conn.execute('''select channel_name,stream_topic,  count(*), max(stream_length) from chats group by channel_name, stream_topic''')\n",
    "output = test.fetchall()\n",
    "conn.close()\n",
    "output"
   ]
  },
  {
   "cell_type": "code",
   "execution_count": 9,
   "id": "41777881",
   "metadata": {},
   "outputs": [
    {
     "data": {
      "text/plain": "[]"
     },
     "execution_count": 9,
     "metadata": {},
     "output_type": "execute_result"
    }
   ],
   "source": [
    "conn = sqlite3.connect('../data/db.sqlite3',isolation_level=None)\n",
    "test = conn.execute('''select channel_name, stream_topic, count(*) from chats where message_sentiment is not NULL group by channel_name, stream_topic ''')\n",
    "output = test.fetchall()\n",
    "conn.close()\n",
    "output"
   ]
  },
  {
   "cell_type": "code",
   "execution_count": 10,
   "id": "aaa79c5e",
   "metadata": {},
   "outputs": [
    {
     "ename": "ProgrammingError",
     "evalue": "Cannot operate on a closed database.",
     "output_type": "error",
     "traceback": [
      "\u001B[0;31m---------------------------------------------------------------------------\u001B[0m",
      "\u001B[0;31mProgrammingError\u001B[0m                          Traceback (most recent call last)",
      "\u001B[0;32m/var/folders/7j/2r8ygwf50llc65lj2hw905yr0000gn/T/ipykernel_41564/1828606849.py\u001B[0m in \u001B[0;36m<module>\u001B[0;34m\u001B[0m\n\u001B[0;32m----> 1\u001B[0;31m test = conn.execute('''select count(*) as messages, \n\u001B[0m\u001B[1;32m      2\u001B[0m                         \u001B[0mavg\u001B[0m\u001B[0;34m(\u001B[0m\u001B[0mviewer_count\u001B[0m\u001B[0;34m)\u001B[0m \u001B[0;32mas\u001B[0m \u001B[0mavg_viewers\u001B[0m\u001B[0;34m,\u001B[0m\u001B[0;34m\u001B[0m\u001B[0;34m\u001B[0m\u001B[0m\n\u001B[1;32m      3\u001B[0m                         \u001B[0mavg\u001B[0m\u001B[0;34m(\u001B[0m\u001B[0msubscriber_count\u001B[0m\u001B[0;34m)\u001B[0m \u001B[0;32mas\u001B[0m \u001B[0mavg_subscribers\u001B[0m\u001B[0;34m\u001B[0m\u001B[0;34m\u001B[0m\u001B[0m\n\u001B[1;32m      4\u001B[0m                         \u001B[0;32mfrom\u001B[0m \u001B[0mchats\u001B[0m\u001B[0;34m\u001B[0m\u001B[0;34m\u001B[0m\u001B[0m\n\u001B[1;32m      5\u001B[0m                         \u001B[0mgroup\u001B[0m \u001B[0mby\u001B[0m \u001B[0mchannel_name\u001B[0m\u001B[0;34m,\u001B[0m \u001B[0mstream_topic\u001B[0m\u001B[0;34m,\u001B[0m \u001B[0mstream_date\u001B[0m\u001B[0;34m\u001B[0m\u001B[0;34m\u001B[0m\u001B[0m\n",
      "\u001B[0;31mProgrammingError\u001B[0m: Cannot operate on a closed database."
     ]
    }
   ],
   "source": [
    "test = conn.execute('''select count(*) as messages, \n",
    "                        avg(viewer_count) as avg_viewers,\n",
    "                        avg(subscriber_count) as avg_subscribers\n",
    "                        from chats\n",
    "                        group by channel_name, stream_topic, stream_date\n",
    "                        ''')\n",
    "test.fetchall()"
   ]
  },
  {
   "cell_type": "code",
   "execution_count": 10,
   "id": "ff7bad0a",
   "metadata": {},
   "outputs": [],
   "source": []
  },
  {
   "cell_type": "code",
   "execution_count": 10,
   "id": "d3b287f9",
   "metadata": {
    "pycharm": {
     "name": "#%%\n"
    }
   },
   "outputs": [],
   "source": []
  },
  {
   "cell_type": "code",
   "execution_count": 10,
   "outputs": [],
   "source": [],
   "metadata": {
    "collapsed": false,
    "pycharm": {
     "name": "#%%\n"
    }
   }
  },
  {
   "cell_type": "code",
   "execution_count": null,
   "outputs": [],
   "source": [],
   "metadata": {
    "collapsed": false,
    "pycharm": {
     "name": "#%%\n"
    }
   }
  }
 ],
 "metadata": {
  "environment": {
   "kernel": "python3",
   "name": "common-cpu.m93",
   "type": "gcloud",
   "uri": "gcr.io/deeplearning-platform-release/base-cpu:m93"
  },
  "kernelspec": {
   "display_name": "Python 3 (ipykernel)",
   "language": "python",
   "name": "python3"
  },
  "language_info": {
   "codemirror_mode": {
    "name": "ipython",
    "version": 3
   },
   "file_extension": ".py",
   "mimetype": "text/x-python",
   "name": "python",
   "nbconvert_exporter": "python",
   "pygments_lexer": "ipython3",
   "version": "3.9.15"
  }
 },
 "nbformat": 4,
 "nbformat_minor": 5
}